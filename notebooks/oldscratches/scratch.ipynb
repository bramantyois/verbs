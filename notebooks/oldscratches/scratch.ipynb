{
 "cells": [
  {
   "cell_type": "code",
   "execution_count": 1,
   "id": "d7321ff8-d6c6-456c-ada5-668915dc4ecd",
   "metadata": {},
   "outputs": [],
   "source": [
    "import os \n",
    "\n",
    "import numpy as np\n",
    "import pandas as pd\n",
    "\n",
    "from tensorflow import keras\n",
    "\n",
    "from tensorflow.keras.preprocessing.text import Tokenizer\n",
    "from tensorflow.keras.preprocessing.sequence import pad_sequences\n",
    "\n",
    "from tensorflow.keras.optimizers import Adam\n",
    "from tensorflow.keras.utils import to_categorical\n"
   ]
  },
  {
   "cell_type": "code",
   "execution_count": 2,
   "id": "5e6a0bd6",
   "metadata": {},
   "outputs": [],
   "source": [
    "def generate_target(seq:list(), stop_val = 0):\n",
    "    res = list()\n",
    "    for i in range(len(seq)):\n",
    "        temp = list()\n",
    "        for j in range(1,len(seq[i])):\n",
    "            temp.append(seq[i][j])\n",
    "        temp.append(stop_val)\n",
    "        res.append(temp)\n",
    "    return res"
   ]
  },
  {
   "cell_type": "code",
   "execution_count": 3,
   "id": "f1dec859-cf2d-47eb-8401-ec671d244fe8",
   "metadata": {},
   "outputs": [],
   "source": [
    "def find_max_list(list):\n",
    "    list_len = [len(i) for i in list]\n",
    "    return (max(list_len))"
   ]
  },
  {
   "cell_type": "code",
   "execution_count": 4,
   "id": "cf89f03b-fdf6-47db-8bbf-f2ceff91b160",
   "metadata": {},
   "outputs": [
    {
     "data": {
      "text/html": [
       "<div>\n",
       "<style scoped>\n",
       "    .dataframe tbody tr th:only-of-type {\n",
       "        vertical-align: middle;\n",
       "    }\n",
       "\n",
       "    .dataframe tbody tr th {\n",
       "        vertical-align: top;\n",
       "    }\n",
       "\n",
       "    .dataframe thead th {\n",
       "        text-align: right;\n",
       "    }\n",
       "</style>\n",
       "<table border=\"1\" class=\"dataframe\">\n",
       "  <thead>\n",
       "    <tr style=\"text-align: right;\">\n",
       "      <th></th>\n",
       "      <th>infinitive</th>\n",
       "      <th>past simple</th>\n",
       "      <th>past participle</th>\n",
       "    </tr>\n",
       "  </thead>\n",
       "  <tbody>\n",
       "    <tr>\n",
       "      <th>0</th>\n",
       "      <td>\\tabide\\n</td>\n",
       "      <td>\\tabode\\n</td>\n",
       "      <td>\\tabode\\n</td>\n",
       "    </tr>\n",
       "    <tr>\n",
       "      <th>1</th>\n",
       "      <td>\\tarise\\n</td>\n",
       "      <td>\\tarose\\n</td>\n",
       "      <td>\\tarisen\\n</td>\n",
       "    </tr>\n",
       "    <tr>\n",
       "      <th>2</th>\n",
       "      <td>\\tawake\\n</td>\n",
       "      <td>\\tawoke\\n</td>\n",
       "      <td>\\tawoken\\n</td>\n",
       "    </tr>\n",
       "    <tr>\n",
       "      <th>3</th>\n",
       "      <td>\\tbe\\n</td>\n",
       "      <td>\\twas\\n</td>\n",
       "      <td>\\tbeen\\n</td>\n",
       "    </tr>\n",
       "    <tr>\n",
       "      <th>4</th>\n",
       "      <td>\\tbear\\n</td>\n",
       "      <td>\\tbore\\n</td>\n",
       "      <td>\\tborne\\n</td>\n",
       "    </tr>\n",
       "  </tbody>\n",
       "</table>\n",
       "</div>"
      ],
      "text/plain": [
       "  infinitive past simple past participle\n",
       "0  \\tabide\\n   \\tabode\\n       \\tabode\\n\n",
       "1  \\tarise\\n   \\tarose\\n      \\tarisen\\n\n",
       "2  \\tawake\\n   \\tawoke\\n      \\tawoken\\n\n",
       "3     \\tbe\\n     \\twas\\n        \\tbeen\\n\n",
       "4   \\tbear\\n    \\tbore\\n       \\tborne\\n"
      ]
     },
     "execution_count": 4,
     "metadata": {},
     "output_type": "execute_result"
    }
   ],
   "source": [
    "dataset = pd.read_csv('../data/irr_verb_list.csv')\n",
    "dataset = dataset.apply(lambda x: '\\t' + x +'\\n')\n",
    "#dataset = dataset.apply(lambda x: '\\t' + x +'\\n', )\n",
    "dataset.head()"
   ]
  },
  {
   "cell_type": "code",
   "execution_count": 5,
   "id": "d45a1fb1",
   "metadata": {},
   "outputs": [],
   "source": [
    "tokenizer = Tokenizer(char_level=True)\n",
    "tokenizer.fit_on_texts(dataset['infinitive'].to_list() + dataset['past simple'].to_list() + dataset['past participle'].to_list())\n",
    "\n",
    "num_classes = len(tokenizer.word_index) + 1"
   ]
  },
  {
   "cell_type": "code",
   "execution_count": 6,
   "id": "98ab6634",
   "metadata": {},
   "outputs": [],
   "source": [
    "inf_seq = tokenizer.texts_to_sequences(dataset['infinitive'].to_list())\n",
    "sp_seq = tokenizer.texts_to_sequences(dataset['past simple'].to_list())\n",
    "\n",
    "t_sp_seq = generate_target(sp_seq)"
   ]
  },
  {
   "cell_type": "code",
   "execution_count": 9,
   "id": "d428adf7-b041-4906-8040-5d374d3b00e8",
   "metadata": {},
   "outputs": [
    {
     "data": {
      "text/plain": [
       "[1, 10, 18, 6, 9, 3, 2]"
      ]
     },
     "execution_count": 9,
     "metadata": {},
     "output_type": "execute_result"
    }
   ],
   "source": [
    "sp_seq[0]"
   ]
  },
  {
   "cell_type": "code",
   "execution_count": 10,
   "id": "d73c1839-91ed-499b-b503-cf6d6802cc1f",
   "metadata": {},
   "outputs": [
    {
     "data": {
      "text/plain": [
       "[10, 18, 6, 9, 3, 2, 0]"
      ]
     },
     "execution_count": 10,
     "metadata": {},
     "output_type": "execute_result"
    }
   ],
   "source": [
    "t_sp_seq[0]"
   ]
  },
  {
   "cell_type": "code",
   "execution_count": 11,
   "id": "480aaddf-5409-4f35-8467-2cd8a51b8ee9",
   "metadata": {},
   "outputs": [],
   "source": [
    "num_data = len(dataset)"
   ]
  },
  {
   "cell_type": "code",
   "execution_count": 12,
   "id": "8119b3ac-a15a-45e1-a00c-0b6f3a169b26",
   "metadata": {},
   "outputs": [
    {
     "data": {
      "text/plain": [
       "186"
      ]
     },
     "execution_count": 12,
     "metadata": {},
     "output_type": "execute_result"
    }
   ],
   "source": [
    "num_data"
   ]
  },
  {
   "cell_type": "code",
   "execution_count": 13,
   "id": "c8710af2-75ba-4f34-ba07-173ae2170711",
   "metadata": {},
   "outputs": [],
   "source": [
    "length_inf = find_max_list(inf_seq)\n",
    "length_sp = find_max_list(sp_seq)\n",
    " \n",
    "if length_inf > length_sp:\n",
    "    max_pad = length_inf\n",
    "else:\n",
    "    max_pad = length_sp"
   ]
  },
  {
   "cell_type": "code",
   "execution_count": 14,
   "id": "010d193e-64f9-4cc9-8433-66ce55b13893",
   "metadata": {},
   "outputs": [],
   "source": [
    "all_data = inf_seq + sp_seq + t_sp_seq"
   ]
  },
  {
   "cell_type": "code",
   "execution_count": 15,
   "id": "3e60d5f0",
   "metadata": {},
   "outputs": [],
   "source": [
    "padded = pad_sequences(all_data, maxlen=max_pad, padding='post')\n",
    "categorized = to_categorical(padded, num_classes=num_classes)"
   ]
  },
  {
   "cell_type": "code",
   "execution_count": 16,
   "id": "b4d74a93",
   "metadata": {},
   "outputs": [],
   "source": [
    "train = categorized[:num_data]\n",
    "y_sp = categorized[num_data:2*num_data]\n",
    "t_y_sp =  categorized[2*num_data:]"
   ]
  },
  {
   "cell_type": "code",
   "execution_count": 17,
   "id": "69cb6970",
   "metadata": {},
   "outputs": [],
   "source": [
    "num_samples = train.shape[0]\n",
    "input_dim = train.shape[1]\n",
    "output_dim = y_sp.shape[1]\n",
    "\n",
    "num_token = train.shape[-1]\n",
    "num_classes = train.shape[-1]\n",
    "\n",
    "start_index = tokenizer.texts_to_sequences(['\\t'])[0][0]\n",
    "stop_index = tokenizer.texts_to_sequences(['\\n'])[0][0]\n",
    "\n",
    "rnn_unit = 32"
   ]
  },
  {
   "cell_type": "code",
   "execution_count": null,
   "id": "ff4f19b1",
   "metadata": {},
   "outputs": [],
   "source": [
    "encoder_inputs = keras.Input(shape=(None, num_token), name='input')\n",
    "\n",
    "encoder = keras.layers.SimpleRNN(units=rnn_unit, return_state=True, name='encoder')\n",
    "\n",
    "_, encoder_states = encoder(encoder_inputs)\n",
    "\n",
    "decoder_inputs = keras.Input(shape=(None, num_token), name='dec_input')\n",
    "\n",
    "decoder = keras.layers.SimpleRNN(units=rnn_unit, return_state=True, return_sequences=True, name='decoder')\n",
    "decoder_outputs, _ = decoder(decoder_inputs, initial_state=encoder_states)\n",
    "\n",
    "decoder_dense = keras.layers.Dense(num_token, activation='softmax', name='dec_dense')\n",
    "decoder_outputs = decoder_dense(decoder_outputs)\n",
    "\n",
    "model = keras.Model([encoder_inputs, decoder_inputs], decoder_outputs)"
   ]
  },
  {
   "cell_type": "code",
   "execution_count": null,
   "id": "1baacce8",
   "metadata": {},
   "outputs": [],
   "source": [
    "model.summary()"
   ]
  },
  {
   "cell_type": "code",
   "execution_count": null,
   "id": "f00d2d47",
   "metadata": {},
   "outputs": [],
   "source": [
    "batch_size = 128\n",
    "epochs = 400"
   ]
  },
  {
   "cell_type": "code",
   "execution_count": null,
   "id": "ca7527cb",
   "metadata": {},
   "outputs": [],
   "source": [
    "model.compile(\n",
    "    optimizer=\"rmsprop\", loss=\"categorical_crossentropy\", metrics=[\"accuracy\"]\n",
    ")\n",
    "model.fit(\n",
    "    [train, y_sp],\n",
    "    t_y_sp,\n",
    "    batch_size=batch_size,\n",
    "    epochs=epochs,\n",
    "    verbose=2\n",
    ")\n",
    "\n",
    "model.save('s2s')"
   ]
  },
  {
   "cell_type": "code",
   "execution_count": null,
   "id": "11903834",
   "metadata": {},
   "outputs": [],
   "source": [
    "model = keras.models.load_model('s2s')"
   ]
  },
  {
   "cell_type": "code",
   "execution_count": null,
   "id": "52016ea2-c7a4-4dab-b1ef-c42783f81727",
   "metadata": {},
   "outputs": [],
   "source": [
    "model.summary()"
   ]
  },
  {
   "cell_type": "code",
   "execution_count": null,
   "id": "a13fa896",
   "metadata": {},
   "outputs": [],
   "source": [
    "encoder_inputs = model.input[0]\n",
    "encoder_outputs, encoder_states = model.layers[2].output\n",
    "encoder_model = keras.Model(encoder_inputs, encoder_states)\n",
    "\n",
    "decoder_inputs = model.input[1]  \n",
    "decoder_states_inputs = keras.Input(shape=(rnn_unit,))\n",
    "\n",
    "decoder = model.layers[3]\n",
    "decoder_outputs, decoder_states = decoder(\n",
    "    decoder_inputs, initial_state=decoder_states_inputs\n",
    ")\n",
    "\n",
    "decoder_dense = model.layers[4]\n",
    "decoder_outputs = decoder_dense(decoder_outputs)\n",
    "decoder_model = keras.Model(\n",
    "    [decoder_inputs, decoder_states_inputs], [decoder_outputs, decoder_states]\n",
    ")"
   ]
  },
  {
   "cell_type": "code",
   "execution_count": 25,
   "id": "d690272a-04d7-44b1-9db5-80e13f15c6f0",
   "metadata": {},
   "outputs": [],
   "source": [
    "input_seq = 'abide'"
   ]
  },
  {
   "cell_type": "code",
   "execution_count": 26,
   "id": "24294898-4426-42e5-96d3-719141eb427f",
   "metadata": {},
   "outputs": [],
   "source": [
    "input_seq = '\\t' + input_seq +'\\n'"
   ]
  },
  {
   "cell_type": "code",
   "execution_count": 33,
   "id": "f8b01cee-56ac-4171-9942-7074e1bcf62f",
   "metadata": {},
   "outputs": [],
   "source": [
    "sample_seq = tokenizer.texts_to_sequences([input_seq])"
   ]
  },
  {
   "cell_type": "code",
   "execution_count": 34,
   "id": "d8fb37c0-277d-497f-9705-11426d6143a5",
   "metadata": {},
   "outputs": [
    {
     "data": {
      "text/plain": [
       "[[1, 10, 18, 13, 9, 3, 2]]"
      ]
     },
     "execution_count": 34,
     "metadata": {},
     "output_type": "execute_result"
    }
   ],
   "source": [
    "sample_seq"
   ]
  },
  {
   "cell_type": "code",
   "execution_count": 29,
   "id": "3b67ce46-a808-4c63-92ba-41db2db9e9a3",
   "metadata": {},
   "outputs": [],
   "source": [
    "\n",
    "sample_seq = pad_sequences(sample_seq, maxlen=max_pad, padding='post')"
   ]
  },
  {
   "cell_type": "code",
   "execution_count": 30,
   "id": "372b073e-0e8a-440c-9e5c-89af50bb9f47",
   "metadata": {},
   "outputs": [],
   "source": [
    "\n",
    "sample_seq = to_categorical(sample_seq, num_classes=num_classes)"
   ]
  },
  {
   "cell_type": "code",
   "execution_count": 32,
   "id": "5f53f1e3-d190-44d4-b2cd-c98aa8665ca6",
   "metadata": {},
   "outputs": [
    {
     "data": {
      "text/plain": [
       "27"
      ]
     },
     "execution_count": 32,
     "metadata": {},
     "output_type": "execute_result"
    }
   ],
   "source": [
    "num_classes"
   ]
  },
  {
   "cell_type": "code",
   "execution_count": 31,
   "id": "0f69a3f6-8dd1-46d5-af0b-1555e01eb268",
   "metadata": {},
   "outputs": [
    {
     "data": {
      "text/plain": [
       "True"
      ]
     },
     "execution_count": 31,
     "metadata": {},
     "output_type": "execute_result"
    }
   ],
   "source": [
    "(sample_seq == train[0]).all()"
   ]
  },
  {
   "cell_type": "code",
   "execution_count": 22,
   "id": "461f2f23-0526-45e1-9aeb-d187bb95f1a4",
   "metadata": {},
   "outputs": [
    {
     "data": {
      "text/plain": [
       "(1, 12, 27)"
      ]
     },
     "execution_count": 22,
     "metadata": {},
     "output_type": "execute_result"
    }
   ],
   "source": [
    "sample_seq.shape"
   ]
  },
  {
   "cell_type": "code",
   "execution_count": 24,
   "id": "41a4541e-472e-42e4-be70-53f368fea1ba",
   "metadata": {},
   "outputs": [
    {
     "data": {
      "text/plain": [
       "(12, 27)"
      ]
     },
     "execution_count": 24,
     "metadata": {},
     "output_type": "execute_result"
    }
   ],
   "source": [
    "train[0].shape"
   ]
  },
  {
   "cell_type": "code",
   "execution_count": null,
   "id": "10250a31-4544-4101-b0f5-e701993e3d69",
   "metadata": {},
   "outputs": [],
   "source": [
    "states_value = encoder_model.predict(sample_seq)"
   ]
  },
  {
   "cell_type": "code",
   "execution_count": null,
   "id": "664f0e24-ce28-43d0-affa-e6cb644757d5",
   "metadata": {},
   "outputs": [],
   "source": [
    "target_seq = np.zeros((1, 1, num_token))\n",
    "target_seq[0, 0, start_index] = 1.0\n",
    "\n",
    "is_finished = False\n",
    "generated_idx = []\n",
    "\n",
    "while not is_finished:\n",
    "    dec_out, states_value = decoder_model.predict([target_seq, states_value])\n",
    "    out_idx = np.argmax(dec_out)\n",
    "    generated_idx.append(out_idx)\n",
    "\n",
    "    if out_idx == stop_index or len(generated_idx) > max_pad:\n",
    "        is_finished=True\n",
    "\n",
    "    target_seq = np.zeros((1, 1, num_token))\n",
    "    target_seq[0, 0, out_idx] = 1.0\n",
    "    "
   ]
  },
  {
   "cell_type": "code",
   "execution_count": null,
   "id": "831e6fd9-cba7-48b5-af5e-64b99741c64d",
   "metadata": {},
   "outputs": [],
   "source": [
    "tokenizer.sequences_to_texts([generated_idx])"
   ]
  },
  {
   "cell_type": "code",
   "execution_count": null,
   "id": "4842c666-489e-40ed-9fb3-47b83f9886bf",
   "metadata": {},
   "outputs": [],
   "source": [
    "generated_idx"
   ]
  },
  {
   "cell_type": "code",
   "execution_count": null,
   "id": "7cd6651d-672a-4b62-9ebc-86fc656d8ff7",
   "metadata": {},
   "outputs": [],
   "source": []
  }
 ],
 "metadata": {
  "interpreter": {
   "hash": "a942e50e2e909917ea648354aef5cbb8752706d8da396ccaa4580a826a612ab9"
  },
  "kernelspec": {
   "display_name": "Python 3 (ipykernel)",
   "language": "python",
   "name": "python3"
  },
  "language_info": {
   "codemirror_mode": {
    "name": "ipython",
    "version": 3
   },
   "file_extension": ".py",
   "mimetype": "text/x-python",
   "name": "python",
   "nbconvert_exporter": "python",
   "pygments_lexer": "ipython3",
   "version": "3.9.12"
  }
 },
 "nbformat": 4,
 "nbformat_minor": 5
}
