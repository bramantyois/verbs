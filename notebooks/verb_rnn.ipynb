{
 "cells": [
  {
   "cell_type": "code",
   "execution_count": 1,
   "id": "1f690bcf-67a6-43a1-a768-97df53b06e08",
   "metadata": {},
   "outputs": [],
   "source": [
    "from src.seq2seq_verbs import Seq2SeqVerbs"
   ]
  },
  {
   "cell_type": "code",
   "execution_count": 2,
   "id": "cc66dc78-b8e7-4d9e-8735-e1c449842581",
   "metadata": {},
   "outputs": [
    {
     "name": "stdout",
     "output_type": "stream",
     "text": [
      "6/6 [==============================] - 1s 11ms/step - loss: 0.0164 - accuracy: 0.9991\n"
     ]
    }
   ],
   "source": [
    "s2s = Seq2SeqVerbs(\n",
    "    units=16,\n",
    "    text_file='data/irr_verb_list.csv',\n",
    "    headers={'train': 'infinitive', 'target': 'past simple'},\n",
    "    name='vanilla16')"
   ]
  },
  {
   "cell_type": "code",
   "execution_count": null,
   "id": "032cdb81-4fa1-426d-9fb3-26976b52a6a9",
   "metadata": {},
   "outputs": [],
   "source": [
    "#s2s.train(epochs=4000, verbose=0)"
   ]
  },
  {
   "cell_type": "code",
   "execution_count": null,
   "id": "c1c8eda4-7e43-40e9-83d4-317e8c335de3",
   "metadata": {},
   "outputs": [],
   "source": [
    "#s2s.load_model('models/vanilla16')"
   ]
  },
  {
   "cell_type": "code",
   "execution_count": 3,
   "id": "da7bd706-a1ed-4533-b511-1e0d7d0f338c",
   "metadata": {},
   "outputs": [
    {
     "name": "stdout",
     "output_type": "stream",
     "text": [
      "6/6 [==============================] - 1s 8ms/step - loss: 0.0709 - accuracy: 0.9843\n"
     ]
    }
   ],
   "source": [
    "gru_s2s = Seq2SeqVerbs(\n",
    "    units=16, \n",
    "    rnn_type='gru', \n",
    "    text_file='data/irr_verb_list.csv',\n",
    "    headers={'train': 'infinitive', 'target': 'past simple'}, \n",
    "    name='gru16')"
   ]
  },
  {
   "cell_type": "code",
   "execution_count": null,
   "id": "0d837ae8-5a8f-413d-9f83-adcdaa4f909c",
   "metadata": {},
   "outputs": [],
   "source": [
    "#gru_s2s.train(epochs=4000, verbose=0)"
   ]
  },
  {
   "cell_type": "code",
   "execution_count": 4,
   "id": "b683a688-97a6-46bb-beae-a7031509cf00",
   "metadata": {},
   "outputs": [
    {
     "name": "stdout",
     "output_type": "stream",
     "text": [
      "6/6 [==============================] - 1s 7ms/step - loss: 0.0709 - accuracy: 0.9843\n"
     ]
    }
   ],
   "source": [
    "gru_s2s.load_model('models/gru16')"
   ]
  },
  {
   "cell_type": "code",
   "execution_count": 5,
   "id": "c445f8dc-a9e5-4cf3-bc0c-a86a9b95113a",
   "metadata": {},
   "outputs": [
    {
     "name": "stdout",
     "output_type": "stream",
     "text": [
      "6/6 [==============================] - 1s 7ms/step - loss: 5.0591e-04 - accuracy: 1.0000\n"
     ]
    }
   ],
   "source": [
    "lstm_s2s = Seq2SeqVerbs(\n",
    "    units=16, \n",
    "    rnn_type='lstm', \n",
    "    text_file='data/irr_verb_list.csv',\n",
    "    headers={'train': 'infinitive', 'target': 'past simple'}, \n",
    "    name='lstm16')"
   ]
  },
  {
   "cell_type": "code",
   "execution_count": null,
   "id": "57c5d603-53a1-4096-a0f3-1a71d8b657b4",
   "metadata": {},
   "outputs": [],
   "source": [
    "# lstm_s2s.train(epochs=4000, verbose=0)"
   ]
  },
  {
   "cell_type": "code",
   "execution_count": 6,
   "id": "b90215b6-39a3-4cd5-968b-ceb41e23ab8d",
   "metadata": {},
   "outputs": [
    {
     "name": "stdout",
     "output_type": "stream",
     "text": [
      "6/6 [==============================] - 1s 8ms/step - loss: 5.0591e-04 - accuracy: 1.0000\n"
     ]
    }
   ],
   "source": [
    "lstm_s2s.load_model('models/lstm16')"
   ]
  },
  {
   "cell_type": "code",
   "execution_count": 15,
   "id": "223404f7-5f9f-490c-9e09-1d8ce3490b72",
   "metadata": {},
   "outputs": [],
   "source": [
    "text = 'wrath'"
   ]
  },
  {
   "cell_type": "code",
   "execution_count": 16,
   "id": "933184ec-8e48-4559-8cff-0f2b0f9273c5",
   "metadata": {},
   "outputs": [
    {
     "name": "stdout",
     "output_type": "stream",
     "text": [
      "1/1 [==============================] - 0s 17ms/step\n",
      "1/1 [==============================] - 0s 19ms/step\n",
      "1/1 [==============================] - 0s 19ms/step\n",
      "1/1 [==============================] - 0s 20ms/step\n",
      "1/1 [==============================] - 0s 18ms/step\n",
      "1/1 [==============================] - 0s 18ms/step\n",
      "oame\n"
     ]
    }
   ],
   "source": [
    "print(s2s.infer(text))"
   ]
  },
  {
   "cell_type": "code",
   "execution_count": 17,
   "id": "eec09cd4-4225-48c8-9fbb-4351b8ebfe80",
   "metadata": {},
   "outputs": [
    {
     "name": "stdout",
     "output_type": "stream",
     "text": [
      "1/1 [==============================] - 0s 17ms/step\n",
      "1/1 [==============================] - 0s 19ms/step\n",
      "1/1 [==============================] - 0s 23ms/step\n",
      "1/1 [==============================] - 0s 20ms/step\n",
      "1/1 [==============================] - 0s 19ms/step\n",
      "1/1 [==============================] - 0s 19ms/step\n",
      "1/1 [==============================] - 0s 19ms/step\n",
      "wrote\n"
     ]
    }
   ],
   "source": [
    "print(gru_s2s.infer(text))"
   ]
  },
  {
   "cell_type": "code",
   "execution_count": 18,
   "id": "46683e97-4edc-4720-9ddd-0bffa4b359e1",
   "metadata": {},
   "outputs": [
    {
     "name": "stdout",
     "output_type": "stream",
     "text": [
      "1/1 [==============================] - 0s 18ms/step\n",
      "1/1 [==============================] - 0s 21ms/step\n",
      "1/1 [==============================] - 0s 20ms/step\n",
      "1/1 [==============================] - 0s 21ms/step\n",
      "1/1 [==============================] - 0s 20ms/step\n",
      "1/1 [==============================] - 0s 20ms/step\n",
      "hrew\n"
     ]
    }
   ],
   "source": [
    "print(lstm_s2s.infer(text))"
   ]
  },
  {
   "cell_type": "code",
   "execution_count": null,
   "id": "02f18bcb-ef4c-4bea-9eb3-dc8bf4257e0f",
   "metadata": {},
   "outputs": [],
   "source": []
  }
 ],
 "metadata": {
  "kernelspec": {
   "display_name": "Python 3 (ipykernel)",
   "language": "python",
   "name": "python3"
  },
  "language_info": {
   "codemirror_mode": {
    "name": "ipython",
    "version": 3
   },
   "file_extension": ".py",
   "mimetype": "text/x-python",
   "name": "python",
   "nbconvert_exporter": "python",
   "pygments_lexer": "ipython3",
   "version": "3.9.12"
  }
 },
 "nbformat": 4,
 "nbformat_minor": 5
}
